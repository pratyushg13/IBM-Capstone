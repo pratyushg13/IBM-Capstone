{
 "cells": [
  {
   "cell_type": "markdown",
   "metadata": {},
   "source": [
    "# Applied Data Science Capstone Report"
   ]
  },
  {
   "cell_type": "markdown",
   "metadata": {},
   "source": [
    "Vitul Kumar\n",
    "<br> IBM Data Science Professional"
   ]
  },
  {
   "cell_type": "markdown",
   "metadata": {},
   "source": [
    "<b> Table of contents </b>\n"
   ]
  },
  {
   "cell_type": "markdown",
   "metadata": {},
   "source": [
    "<ol>\n",
    "<li>Introduction: Business Problem</li>\n",
    "<li>Data</li>\n",
    "<li>Methodology</li>\n",
    "<li>Results</li>\n",
    "<li>Discussion</li>\n",
    "<li>Conclusion</li>\n",
    "</ol>"
   ]
  },
  {
   "cell_type": "markdown",
   "metadata": {},
   "source": [
    "## Introduction: Business Problem"
   ]
  },
  {
   "cell_type": "markdown",
   "metadata": {},
   "source": [
    "Opening a new restaurant can be daunting. There are so many things to consider - the location, financing, and name. However, Location can make or break a restaurant. Is the restaurant located in a busy area with plenty of foot traffic? One of the biggest questions to answer in a business plan for a new restaurant is to determine if the location has enough of a population base.\n",
    " \n",
    "For an entrepreneur or a food chain looking to open a new restaurant, Toronto is the ideal location. Toronto is Canada’s largest city and a world leader in such areas as business, finance, technology, entertainment, and culture. Its large population of immigrants from all over the globe has also made Toronto one of the most multicultural cities in the world. https://www.toronto.ca/community-people/moving-to-toronto/about-toronto/\n",
    " \n",
    "Considering the challenges with starting a new restaurant, it is advantageous to build a model to identify location to open a new restaurant.\n",
    "\n",
    "### Target audience - \n",
    "an entrepreneur or a food chain looking to open a new restaurant"
   ]
  },
  {
   "cell_type": "markdown",
   "metadata": {},
   "source": [
    "## Data"
   ]
  },
  {
   "cell_type": "markdown",
   "metadata": {},
   "source": [
    "For this problem statement - three datasets will be needed."
   ]
  },
  {
   "cell_type": "markdown",
   "metadata": {},
   "source": [
    "<ul>\n",
    "<li> Age and income data of people\n",
    "<li>Information on restaurants (Name, type and location) will be obtained from Foursquare API</li>\n",
    "<li>Distance of neighborhood from city center for foot traffic</li>\n",
    "</ul>"
   ]
  },
  {
   "cell_type": "markdown",
   "metadata": {},
   "source": [
    "Algorithms will be used to obtain the centers of areas of interest and then data from Wikipedia will be used to obtain approximate addresses of these centers. \n",
    "Data extracted from Wikipedia on Toronto neighborhoods will be used to obtain the centers (approximate addresses) of areas of interest.  https://en.wikipedia.org/wiki/List_of_postal_codes_of_Canada:_M"
   ]
  },
  {
   "cell_type": "markdown",
   "metadata": {},
   "source": [
    "## Methodology"
   ]
  },
  {
   "cell_type": "markdown",
   "metadata": {},
   "source": [
    "k-means clustering method will be used for this exercise. It is an unsupervised model that divides data into K non-overlapping subsets or clusters without any cluster internal structure or labels. The purpose of the algorithm is to find groups in data based on similar characteristics. k-means is an iterative process that tries to minimize the intra-cluster distances and maximize the inter-cluster distances. It assigns each data point to a cluster and creates the number of clustered determined by the value of k. In each iteration, it will move the centroids, calculate the distances from new centroids, and assign data points to the nearest centroid. It results in the clusters with the smallest error or the densest clusters.\n",
    " \n",
    "#### Steps followed in the model -\n",
    " \n",
    "<ul>\n",
    "\n",
    "<li>Extract data on Toronto neighborhoods from Wikipedia.</li>\n",
    " \n",
    "<li>Get the latitude and longitude values of Toronto.</li>\n",
    " \n",
    "<li>Create a map of Toronto with neighborhoods superimposed on top.</li>\n",
    " \n",
    "<li>Collect data on restaurants in Toronto neighborhood using Foursquare API.</li>\n",
    " \n",
    "<li>Leverage k-means clustering to explore restaurant density in different areas of Toronto - this will be used to identify locations with less number of restaurants and their type.</li>\n",
    " \n",
    "<li>Areas of interest will be defined as locations with fewer restaurants in a radius of 500m. It will also include additional criteria like type of restaurants available, frequency of visit, etc. that will be determined from discussions with Target audience.</li>\n",
    " \n",
    "<li>Finally, maps will be used to display all such locations to the target audience for decision making.</li>"
   ]
  },
  {
   "cell_type": "markdown",
   "metadata": {},
   "source": [
    "We will create 5 clusters in Toronto with similar set of characteristics. We will further explore each cluster and identify the cluster with maximum number of restaurants and their types. Pocket with maximum number of restaurants will indicate market with large potential but competition as well.\n"
   ]
  },
  {
   "cell_type": "markdown",
   "metadata": {},
   "source": [
    "## Results"
   ]
  },
  {
   "cell_type": "markdown",
   "metadata": {},
   "source": [
    "From this study, we noticed 4 boroughs and 39 neighborhoods within Toronto city defined by geograpical coordinates - 43.653963, -79.387207. We noticed pockets/clusters with very less competition fairly close to the city center. According to our initial assumption that high density of restaurants indicates high market potential indicates that Cluster 1 is the most suitable location to start a new restaurant. "
   ]
  },
  {
   "cell_type": "markdown",
   "metadata": {},
   "source": [
    "## Discussion "
   ]
  },
  {
   "cell_type": "markdown",
   "metadata": {},
   "source": [
    "My expectation was to see more clusters with high restaurant density. However, results are contrary to my expectation. There can be other possible reasons like parking, type of neighborhood etc. for other clusters to have less number of restaurants so recommended area should be a starting for a deep dive analysis to identify the right location to start a new restaurant. "
   ]
  },
  {
   "cell_type": "markdown",
   "metadata": {},
   "source": [
    "## Conclusion"
   ]
  },
  {
   "cell_type": "markdown",
   "metadata": {},
   "source": [
    "This report can be a good starting point for an individual/organization planning to open a restaurant in Toronto. This study coupled with other factors like real estate availability, proximity to public transport and highways, crime rate etc. to make a final decision on location. However, this report in isolation should not be used as a decision making tool. "
   ]
  },
  {
   "cell_type": "code",
   "execution_count": null,
   "metadata": {},
   "outputs": [],
   "source": []
  }
 ],
 "metadata": {
  "kernelspec": {
   "display_name": "Python",
   "language": "python",
   "name": "conda-env-python-py"
  },
  "language_info": {
   "codemirror_mode": {
    "name": "ipython",
    "version": 3
   },
   "file_extension": ".py",
   "mimetype": "text/x-python",
   "name": "python",
   "nbconvert_exporter": "python",
   "pygments_lexer": "ipython3",
   "version": "3.6.7"
  }
 },
 "nbformat": 4,
 "nbformat_minor": 4
}
